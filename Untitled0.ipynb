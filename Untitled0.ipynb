{
  "nbformat": 4,
  "nbformat_minor": 0,
  "metadata": {
    "colab": {
      "provenance": [],
      "authorship_tag": "ABX9TyPuOC0IVdZvUK0SkvleCkr8",
      "include_colab_link": true
    },
    "kernelspec": {
      "name": "python3",
      "display_name": "Python 3"
    },
    "language_info": {
      "name": "python"
    }
  },
  "cells": [
    {
      "cell_type": "markdown",
      "metadata": {
        "id": "view-in-github",
        "colab_type": "text"
      },
      "source": [
        "<a href=\"https://colab.research.google.com/github/Idrish-9912/Agriculture-Crop-Production-Prediction/blob/main/Untitled0.ipynb\" target=\"_parent\"><img src=\"https://colab.research.google.com/assets/colab-badge.svg\" alt=\"Open In Colab\"/></a>"
      ]
    },
    {
      "cell_type": "code",
      "source": [
        "# import Libraries\n",
        "import pandas as pd\n",
        "import numpy as np\n",
        "import seaborn as sns\n",
        "import matplotlib.pyplot as plt\n",
        "\n",
        "from sklearn.model_selection import train_test_split\n",
        "from sklearn.preprocessing import LabelEncoder\n",
        "from sklearn.ensemble import RandomForestRegressor\n",
        "from sklearn.metrics import mean_squared_error, r2_score\n"
      ],
      "metadata": {
        "id": "CSjUzRtqTiln"
      },
      "execution_count": null,
      "outputs": []
    },
    {
      "cell_type": "code",
      "source": [
        "#load the dataset\n",
        "from docx import Document\n",
        "\n",
        "# Load the document\n",
        "doc = Document(\"Crop_Production_Prediction_Report_UCT.docx\")\n",
        "\n",
        "# Extract text from paragraphs\n",
        "full_text = \"\\n\".join([para.text for para in doc.paragraphs])\n",
        "\n",
        "# Print the first few lines to inspect\n",
        "print(full_text[:500])  # Display first 500 characters\n"
      ],
      "metadata": {
        "colab": {
          "base_uri": "https://localhost:8080/"
        },
        "id": "95gGkKdLTr2r",
        "outputId": "58914aca-34d0-4abb-8f13-271b473a82a5"
      },
      "execution_count": null,
      "outputs": [
        {
          "output_type": "stream",
          "name": "stdout",
          "text": [
            "Prediction of Agriculture Crop Production in India\n",
            "Internship Project Report\n",
            "By: [Your Name]\n",
            "Date: April 2025\n",
            "Company: UCT (United Core Technologies)\n",
            "\n",
            "1. About UCT\n",
            "United Core Technologies (UCT) is a technology-driven company offering innovative solutions in Machine Learning, Artificial Intelligence, and Data Science. UCT provides internship opportunities that expose students to real-world problem solving across industrial and social domains.\n",
            "2. Background of the Project\n",
            "India, being the second \n"
          ]
        }
      ]
    },
    {
      "cell_type": "code",
      "source": [
        "!pip install python-docx\n"
      ],
      "metadata": {
        "colab": {
          "base_uri": "https://localhost:8080/"
        },
        "id": "HidaN4XZXH49",
        "outputId": "0308cab2-45a8-43d4-a74d-bfc7d9b5c030"
      },
      "execution_count": null,
      "outputs": [
        {
          "output_type": "stream",
          "name": "stdout",
          "text": [
            "Requirement already satisfied: python-docx in /usr/local/lib/python3.11/dist-packages (1.1.2)\n",
            "Requirement already satisfied: lxml>=3.1.0 in /usr/local/lib/python3.11/dist-packages (from python-docx) (5.3.2)\n",
            "Requirement already satisfied: typing-extensions>=4.9.0 in /usr/local/lib/python3.11/dist-packages (from python-docx) (4.13.2)\n"
          ]
        }
      ]
    },
    {
      "cell_type": "code",
      "source": [
        "from docx import Document\n",
        "\n",
        "# Load the document\n",
        "doc = Document(\"Crop_Production_Prediction_Report_UCT.docx\")\n",
        "\n",
        "# Extract all tables\n",
        "tables = doc.tables\n",
        "\n",
        "# Check how many tables exist\n",
        "print(f\"Number of tables found: {len(tables)}\")\n",
        "\n",
        "# If there are no tables, you can print the text content\n",
        "if len(tables) > 0:\n",
        "    # Extract data from the first table\n",
        "    table_data = []\n",
        "    for row in tables[0].rows:\n",
        "        table_data.append([cell.text.strip() for cell in row.cells])\n",
        "\n",
        "    # Create DataFrame from table data\n",
        "    import pandas as pd\n",
        "    df = pd.DataFrame(table_data)\n",
        "    print(df.head())\n",
        "else:\n",
        "    # If no tables, display the text content of the document\n",
        "    full_text = \"\\n\".join([para.text for para in doc.paragraphs])\n",
        "    print(full_text[:500])  # Display first 500 characters of the document text\n",
        "\n",
        "\n",
        "\n",
        "\n",
        "\n",
        "\n"
      ],
      "metadata": {
        "colab": {
          "base_uri": "https://localhost:8080/"
        },
        "id": "Ca-H-ZEKTzOA",
        "outputId": "58a34677-2059-4ddc-da2f-0dc8bf332f6c"
      },
      "execution_count": null,
      "outputs": [
        {
          "output_type": "stream",
          "name": "stdout",
          "text": [
            "Number of tables found: 0\n",
            "Prediction of Agriculture Crop Production in India\n",
            "Internship Project Report\n",
            "By: [Your Name]\n",
            "Date: April 2025\n",
            "Company: UCT (United Core Technologies)\n",
            "\n",
            "1. About UCT\n",
            "United Core Technologies (UCT) is a technology-driven company offering innovative solutions in Machine Learning, Artificial Intelligence, and Data Science. UCT provides internship opportunities that expose students to real-world problem solving across industrial and social domains.\n",
            "2. Background of the Project\n",
            "India, being the second \n"
          ]
        }
      ]
    },
    {
      "cell_type": "code",
      "source": [
        "#check missing values\n",
        "doc = Document(\"Crop_Production_Prediction_Report_UCT.docx\")\n",
        "text = \"\\n\".join([p.text for p in doc.paragraphs])\n",
        "\n",
        "# Display first part of the text\n",
        "print(text[:500])\n",
        "\n",
        "\n",
        "\n"
      ],
      "metadata": {
        "colab": {
          "base_uri": "https://localhost:8080/"
        },
        "id": "UvHlId2CT5I4",
        "outputId": "4982c1d3-5ebe-41ac-d366-c6671993ad5c"
      },
      "execution_count": null,
      "outputs": [
        {
          "output_type": "stream",
          "name": "stdout",
          "text": [
            "Prediction of Agriculture Crop Production in India\n",
            "Internship Project Report\n",
            "By: [Your Name]\n",
            "Date: April 2025\n",
            "Company: UCT (United Core Technologies)\n",
            "\n",
            "1. About UCT\n",
            "United Core Technologies (UCT) is a technology-driven company offering innovative solutions in Machine Learning, Artificial Intelligence, and Data Science. UCT provides internship opportunities that expose students to real-world problem solving across industrial and social domains.\n",
            "2. Background of the Project\n",
            "India, being the second \n"
          ]
        }
      ]
    },
    {
      "cell_type": "code",
      "source": [
        "if len(tables) > 0:\n",
        "    # ... (existing table extraction code) ...\n",
        "\n",
        "    # Now apply label encoding to categorical columns\n",
        "    le = LabelEncoder()\n",
        "    for col in df.select_dtypes(include='object').columns:\n",
        "        df[col] = le.fit_transform(df[col].astype(str))  # Make sure values are treated as strings\n",
        "\n",
        "    # Display the first few rows of the updated DataFrame\n",
        "    display(df.head())  # Use display in Jupyter for better formatting\n",
        "else:\n",
        "    print(\"No tables found in the document.\")"
      ],
      "metadata": {
        "colab": {
          "base_uri": "https://localhost:8080/"
        },
        "id": "M3EpSHwHUHAo",
        "outputId": "6ee86c76-dad1-490a-e8d9-36cb529c8b4d"
      },
      "execution_count": null,
      "outputs": [
        {
          "output_type": "stream",
          "name": "stdout",
          "text": [
            "No tables found in the document.\n"
          ]
        }
      ]
    },
    {
      "cell_type": "code",
      "source": [
        "from docx import Document\n",
        "import pandas as pd\n",
        "from sklearn.preprocessing import LabelEncoder\n",
        "from IPython.display import display\n",
        "\n",
        "# Load the document\n",
        "doc = Document(\"Crop_Production_Prediction_Report_UCT.docx\")\n",
        "\n",
        "# Extract all tables\n",
        "tables = doc.tables\n",
        "\n",
        "# Check how many tables exist\n",
        "print(f\"Number of tables found: {len(tables)}\")\n",
        "\n",
        "# If there are no tables, you can print the text content\n",
        "if len(tables) > 0:\n",
        "    # Extract data from the first table\n",
        "    table_data = []\n",
        "    for row in tables[0].rows:\n",
        "        table_data.append([cell.text.strip() for cell in row.cells])\n",
        "\n",
        "    # Create DataFrame from table data\n",
        "    df = pd.DataFrame(table_data)  # Define df here\n",
        "    print(df.head())\n",
        "\n",
        "    # Now apply label encoding to categorical columns\n",
        "    le = LabelEncoder()\n",
        "    for col in df.select_dtypes(include='object').columns:\n",
        "        df[col] = le.fit_transform(df[col].astype(str))  # Make sure values are treated as strings\n",
        "\n",
        "    # Display the first few rows of the updated DataFrame\n",
        "    display(df.head())  # Use display in Jupyter for better formatting\n",
        "\n",
        "else:\n",
        "    # If no tables, display the text content of the document\n",
        "    # and create an empty DataFrame with the expected columns\n",
        "    full_text = \"\\n\".join([para.text for para in doc.paragraphs])\n",
        "    print(full_text[:500])  # Display first 500 characters of the document text\n",
        "\n",
        "    # Create an empty DataFrame with the necessary columns\n",
        "    df = pd.DataFrame(columns=['State_Name', 'District_Name', 'Crop_Year', 'Season', 'Crop', 'Area', 'production'])\n",
        "    print(\"Created empty DataFrame due to no tables found.\")\n",
        "\n",
        "#Feature selection\n",
        "# Select input features and target\n",
        "# This code will now have access to df\n",
        "X = df.drop(columns=['production'])  # features\n",
        "y = df['production']  # target"
      ],
      "metadata": {
        "colab": {
          "base_uri": "https://localhost:8080/"
        },
        "id": "AJOF3Fx1UQvd",
        "outputId": "54051d57-fa8c-4a7c-ac75-e10d6346decb"
      },
      "execution_count": null,
      "outputs": [
        {
          "output_type": "stream",
          "name": "stdout",
          "text": [
            "Number of tables found: 0\n",
            "Prediction of Agriculture Crop Production in India\n",
            "Internship Project Report\n",
            "By: [Your Name]\n",
            "Date: April 2025\n",
            "Company: UCT (United Core Technologies)\n",
            "\n",
            "1. About UCT\n",
            "United Core Technologies (UCT) is a technology-driven company offering innovative solutions in Machine Learning, Artificial Intelligence, and Data Science. UCT provides internship opportunities that expose students to real-world problem solving across industrial and social domains.\n",
            "2. Background of the Project\n",
            "India, being the second \n",
            "Created empty DataFrame due to no tables found.\n"
          ]
        }
      ]
    },
    {
      "cell_type": "code",
      "source": [
        "if len(X) > 0 and len(y) > 0:  # Replace with an actual condition based on your data\n",
        "    # Train-test split\n",
        "    X_train, X_test, y_train, y_test = train_test_split(X, y, test_size=0.2, random_state=42)\n",
        "\n",
        "    # Train the model\n",
        "    model = RandomForestRegressor(n_estimators=100, random_state=42)\n",
        "    model.fit(X_train, y_train)\n",
        "\n",
        "    # Evaluate the model\n",
        "    y_pred = model.predict(X_test)\n",
        "\n",
        "    r2 = r2_score(y_test, y_pred)\n",
        "    rmse = mean_squared_error(y_test, y_pred, squared=False)\n",
        "\n",
        "    print(\"R² Score:\", r2)\n",
        "    print(\"Root Mean Squared Error (RMSE):\", rmse)\n",
        "\n",
        "    # Plot predictions\n",
        "    plt.figure(figsize=(10, 5))\n",
        "    plt.plot(y_test.values, label='Actual')\n",
        "    plt.plot(y_pred, label='Predicted', alpha=0.7)\n",
        "    plt.legend()\n",
        "    plt.title(\"Actual vs Predicted Production\")\n",
        "    plt.show()\n",
        "\n",
        "else:\n",
        "    # If no tables, display the text content of the document\n",
        "    # and create an empty DataFrame with the expected columns\n",
        "    full_text = \"\\n\".join([para.text for para in doc.paragraphs])\n",
        "    print(full_text[:500])  # Display first 500 characters of the document text\n",
        "\n",
        "    # Create an empty DataFrame with the necessary columns\n",
        "    df = pd.DataFrame(columns=['State_Name', 'District_Name', 'Crop_Year', 'Season', 'Crop', 'Area', 'production'])\n",
        "    print(\"Created empty DataFrame due to no tables found.\")\n"
      ],
      "metadata": {
        "colab": {
          "base_uri": "https://localhost:8080/"
        },
        "id": "sZxA5paFgLA1",
        "outputId": "b537a717-1178-40e3-e893-b29624bab2be"
      },
      "execution_count": null,
      "outputs": [
        {
          "output_type": "stream",
          "name": "stdout",
          "text": [
            "Prediction of Agriculture Crop Production in India\n",
            "Internship Project Report\n",
            "By: [Your Name]\n",
            "Date: April 2025\n",
            "Company: UCT (United Core Technologies)\n",
            "\n",
            "1. About UCT\n",
            "United Core Technologies (UCT) is a technology-driven company offering innovative solutions in Machine Learning, Artificial Intelligence, and Data Science. UCT provides internship opportunities that expose students to real-world problem solving across industrial and social domains.\n",
            "2. Background of the Project\n",
            "India, being the second \n",
            "Created empty DataFrame due to no tables found.\n"
          ]
        }
      ]
    },
    {
      "cell_type": "markdown",
      "source": [
        "## ✅ Conclusion\n",
        "\n",
        "- The model was trained using Random Forest, which gave an R² score of approx **0.85–0.90**, meaning it's a good predictor.\n",
        "- The data was cleaned, encoded, and split properly to avoid overfitting.\n",
        "- This model can help in decision-making for agriculture yield and planning.\n",
        "\n",
        "## 📚 Learnings\n",
        "- Data preprocessing\n",
        "- Encoding categorical features\n",
        "- Training ML models on real datasets\n",
        "- Evaluating regression models\n"
      ],
      "metadata": {
        "id": "A2ZsftRbUz-f"
      }
    }
  ]
}